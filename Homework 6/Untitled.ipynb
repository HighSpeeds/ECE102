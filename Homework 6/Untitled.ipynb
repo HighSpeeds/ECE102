{
 "cells": [
  {
   "cell_type": "code",
   "execution_count": 1,
   "id": "072f35b0",
   "metadata": {},
   "outputs": [],
   "source": [
    "from sympy import *"
   ]
  },
  {
   "cell_type": "code",
   "execution_count": 14,
   "id": "40d1f038",
   "metadata": {},
   "outputs": [],
   "source": [
    "w=Symbol(\"\\omega\",real=True)"
   ]
  },
  {
   "cell_type": "code",
   "execution_count": 15,
   "id": "ee42d2d9",
   "metadata": {},
   "outputs": [
    {
     "data": {
      "text/latex": [
       "$\\displaystyle \\omega$"
      ],
      "text/plain": [
       "\\omega"
      ]
     },
     "execution_count": 15,
     "metadata": {},
     "output_type": "execute_result"
    }
   ],
   "source": [
    "w"
   ]
  },
  {
   "cell_type": "code",
   "execution_count": 21,
   "id": "d14cc3f6",
   "metadata": {},
   "outputs": [],
   "source": [
    "c=abs(2*pi/((I*w+1)**2+4*pi**2)+exp(-2*I*w))"
   ]
  },
  {
   "cell_type": "code",
   "execution_count": 23,
   "id": "fd1389c4",
   "metadata": {},
   "outputs": [
    {
     "data": {
      "text/latex": [
       "$\\displaystyle \\sqrt{1 + \\frac{4 \\pi^{2}}{\\left(i \\omega - 1\\right)^{2} \\left(i \\omega + 1\\right)^{2} + 4 \\pi^{2} \\left(i \\omega - 1\\right)^{2} + 4 \\pi^{2} \\left(i \\omega + 1\\right)^{2} + 16 \\pi^{4}} + \\frac{2 \\pi e^{2 i \\omega}}{\\left(i \\omega + 1\\right)^{2} + 4 \\pi^{2}} + \\frac{2 \\pi}{\\left(i \\omega - 1\\right)^{2} e^{2 i \\omega} + 4 \\pi^{2} e^{2 i \\omega}}}$"
      ],
      "text/plain": [
       "sqrt(1 + 4*pi**2/((I*\\omega - 1)**2*(I*\\omega + 1)**2 + 4*pi**2*(I*\\omega - 1)**2 + 4*pi**2*(I*\\omega + 1)**2 + 16*pi**4) + 2*pi*exp(2*I*\\omega)/((I*\\omega + 1)**2 + 4*pi**2) + 2*pi/((I*\\omega - 1)**2*exp(2*I*\\omega) + 4*pi**2*exp(2*I*\\omega)))"
      ]
     },
     "execution_count": 23,
     "metadata": {},
     "output_type": "execute_result"
    }
   ],
   "source": [
    "simplify(c)"
   ]
  },
  {
   "cell_type": "code",
   "execution_count": null,
   "id": "fed69d4a",
   "metadata": {},
   "outputs": [],
   "source": []
  }
 ],
 "metadata": {
  "kernelspec": {
   "display_name": "Python 3 (ipykernel)",
   "language": "python",
   "name": "python3"
  },
  "language_info": {
   "codemirror_mode": {
    "name": "ipython",
    "version": 3
   },
   "file_extension": ".py",
   "mimetype": "text/x-python",
   "name": "python",
   "nbconvert_exporter": "python",
   "pygments_lexer": "ipython3",
   "version": "3.9.7"
  }
 },
 "nbformat": 4,
 "nbformat_minor": 5
}
