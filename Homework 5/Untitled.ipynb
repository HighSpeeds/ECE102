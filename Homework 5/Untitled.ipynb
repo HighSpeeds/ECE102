{
 "cells": [
  {
   "cell_type": "code",
   "execution_count": 4,
   "id": "e2ba227f",
   "metadata": {},
   "outputs": [],
   "source": [
    "import numpy as np\n",
    "import matplotlib.pyplot as plt\n",
    "import seaborn"
   ]
  },
  {
   "cell_type": "code",
   "execution_count": 4,
   "id": "8c30d77f",
   "metadata": {},
   "outputs": [],
   "source": [
    "i=1j\n",
    "pi=np.pi\n",
    "def sin(x):\n",
    "    return np.sin(x)\n",
    "\n",
    "def cos(x):\n",
    "    return np.cos(x)"
   ]
  },
  {
   "cell_type": "code",
   "execution_count": 5,
   "id": "35c244fd",
   "metadata": {},
   "outputs": [],
   "source": [
    "a_k1=lambda k: -(3*(3*i*sin((2*pi*k)/3)+3*cos((2*pi*k)/3)+(pi*k-3*i)*sin((pi*k)/3)+(-i*pi*k-3)*cos((pi*k)/3)))/(pi**2*k**2)\n",
    "a_k2=lambda k: (6*sin((pi*k)/3))/(pi*k)\n",
    "a_k3=lambda k: (3*(3*i*sin((2*pi*k)/3)-3*cos((2*pi*k)/3)+(-pi*k-3*i)*sin((pi*k)/3)+(3-i*pi*k)*cos((pi*k)/3)))/(pi**2*k**2)"
   ]
  },
  {
   "cell_type": "code",
   "execution_count": 6,
   "id": "0188cd87",
   "metadata": {},
   "outputs": [
    {
     "data": {
      "text/plain": [
       "(0.08489730964835188+0.4774648292756862j)"
      ]
     },
     "execution_count": 6,
     "metadata": {},
     "output_type": "execute_result"
    }
   ],
   "source": [
    "a_k1(1)"
   ]
  },
  {
   "cell_type": "code",
   "execution_count": 17,
   "id": "57017947",
   "metadata": {},
   "outputs": [],
   "source": [
    "def a_k(k):\n",
    "    if k==0:\n",
    "        return 0.5\n",
    "    return 3*(cos(pi*k/3)/(pi*k)-cos(2*pi*k/3)/(pi*k))/(pi*k)"
   ]
  },
  {
   "cell_type": "code",
   "execution_count": 42,
   "id": "147302b0",
   "metadata": {},
   "outputs": [
    {
     "data": {
      "text/plain": [
       "[0.012158542037080533,\n",
       " -2.3191544552338144e-17,\n",
       " -0.06754745576155852,\n",
       " 5.300924469105861e-17,\n",
       " 0.30396355092701327,\n",
       " 0.5,\n",
       " 0.30396355092701327,\n",
       " 5.300924469105861e-17,\n",
       " -0.06754745576155852,\n",
       " -2.3191544552338144e-17,\n",
       " 0.012158542037080533]"
      ]
     },
     "execution_count": 42,
     "metadata": {},
     "output_type": "execute_result"
    }
   ],
   "source": [
    "K=np.arange(-5,6)\n",
    "ak=[]\n",
    "for k in K:\n",
    "    ak.append(a_k(k))\n",
    "\n",
    "ak=np.array(ak)"
   ]
  },
  {
   "cell_type": "code",
   "execution_count": 53,
   "id": "560304d9",
   "metadata": {},
   "outputs": [
    {
     "data": {
      "image/png": "[encoded data removed]",
      "text/plain": [
       "<Figure size 720x576 with 2 Axes>"
      ]
     },
     "metadata": {
      "needs_background": "light"
     },
     "output_type": "display_data"
    }
   ],
   "source": [
    "fig, axs = plt.subplots(2,figsize=(10,8))\n",
    "\n",
    "axs[0].set_title(\"Magnitude Plot\")\n",
    "axs[0].plot(K,ak,\"o\")\n",
    "for i,k in enumerate(K):\n",
    "    axs[0].plot([k,k],[0,ak[i]],color=\"black\")\n",
    "\n",
    "axs[1].plot(K,np.arctan(np.imag(ak)/np.real(ak)),\"o\")\n",
    "\n",
    "axs[1].set_title(\"Phase Plot\")\n",
    "\n",
    "for ax in axs:\n",
    "    # set the x-spine (see below for more info on `set_position`)\n",
    "    ax.spines['left'].set_position('zero')\n",
    "\n",
    "    # turn off the right spine/ticks\n",
    "    ax.spines['right'].set_color('none')\n",
    "    ax.yaxis.tick_left()\n",
    "\n",
    "    # set the y-spine\n",
    "    ax.spines['bottom'].set_position('zero')\n",
    "\n",
    "    # turn off the top spine/ticks\n",
    "    ax.spines['top'].set_color('none')\n",
    "    ax.xaxis.tick_bottom()\n",
    "plt.savefig(\"fig1\")"
   ]
  },
  {
   "cell_type": "code",
   "execution_count": 89,
   "id": "a261c31c",
   "metadata": {},
   "outputs": [],
   "source": [
    "K=np.arange(-100,100)\n",
    "ak=[]\n",
    "for k in K:\n",
    "    ak.append(np.exp(-1j*k*pi*2)-np.exp(-1j*k*pi))"
   ]
  },
  {
   "cell_type": "code",
   "execution_count": 90,
   "id": "4461c63f",
   "metadata": {},
   "outputs": [],
   "source": [
    "y=0\n",
    "t=np.arange(-5,5,0.01)\n",
    "\n",
    "for i,k in enumerate(K):\n",
    "    y+=ak[i]*np.exp(1j*k*pi*(t))\n",
    "    "
   ]
  },
  {
   "cell_type": "code",
   "execution_count": 91,
   "id": "2ab5ecc7",
   "metadata": {},
   "outputs": [
    {
     "name": "stderr",
     "output_type": "stream",
     "text": [
      "C:\\Users\\Lawrence\\anaconda3\\lib\\site-packages\\numpy\\core\\_asarray.py:102: ComplexWarning: Casting complex values to real discards the imaginary part\n",
      "  return array(a, dtype, copy=False, order=order)\n"
     ]
    },
    {
     "data": {
      "text/plain": [
       "[<matplotlib.lines.Line2D at 0x216eb11d550>]"
      ]
     },
     "execution_count": 91,
     "metadata": {},
     "output_type": "execute_result"
    },
    {
     "data": {
      "image/png": "[encoded data removed]",
      "text/plain": [
       "<Figure size 432x288 with 1 Axes>"
      ]
     },
     "metadata": {
      "needs_background": "light"
     },
     "output_type": "display_data"
    }
   ],
   "source": [
    "plt.plot(t,y)"
   ]
  },
  {
   "cell_type": "code",
   "execution_count": 14,
   "id": "828c2cb5",
   "metadata": {},
   "outputs": [
    {
     "data": {
      "text/plain": [
       "array([ 3.33458533+8.57020709e-17j, -2.33458533-4.79510805e-17j,\n",
       "       -2.46727243-3.08148791e-32j, -2.33458533+6.66461463e-17j,\n",
       "        3.33458533-6.23738197e-17j,  3.46727243+0.00000000e+00j,\n",
       "        3.33458533+6.23738197e-17j, -2.33458533-6.66461463e-17j,\n",
       "       -2.46727243+3.08148791e-32j, -2.33458533+4.79510805e-17j])"
      ]
     },
     "execution_count": 14,
     "metadata": {},
     "output_type": "execute_result"
    }
   ],
   "source": [
    "y"
   ]
  },
  {
   "cell_type": "code",
   "execution_count": 4,
   "id": "dfff1a52",
   "metadata": {},
   "outputs": [],
   "source": [
    "def ak(k):\n",
    "    if k==0:\n",
    "        return 0.5\n",
    "    return 1j*0.5**(abs(k))"
   ]
  },
  {
   "cell_type": "code",
   "execution_count": 18,
   "id": "f495b3ee",
   "metadata": {},
   "outputs": [],
   "source": [
    "K=np.arange(-2,2)\n",
    "y=0\n",
    "t=np.arange(-10,10,0.01)\n",
    "\n",
    "for i,k in enumerate(K):\n",
    "    y+=ak(k)*np.exp(1j*k/10*np.pi*(t))"
   ]
  },
  {
   "cell_type": "code",
   "execution_count": 19,
   "id": "8e76dc3b",
   "metadata": {},
   "outputs": [
    {
     "name": "stderr",
     "output_type": "stream",
     "text": [
      "C:\\Users\\Lawrence\\anaconda3\\lib\\site-packages\\numpy\\core\\_asarray.py:102: ComplexWarning: Casting complex values to real discards the imaginary part\n",
      "  return array(a, dtype, copy=False, order=order)\n"
     ]
    },
    {
     "data": {
      "text/plain": [
       "[<matplotlib.lines.Line2D at 0x194eaea0430>]"
      ]
     },
     "execution_count": 19,
     "metadata": {},
     "output_type": "execute_result"
    },
    {
     "data": {
      "image/png": "[encoded data removed]",
      "text/plain": [
       "<Figure size 432x288 with 1 Axes>"
      ]
     },
     "metadata": {
      "needs_background": "light"
     },
     "output_type": "display_data"
    }
   ],
   "source": [
    "plt.plot(t,y)"
   ]
  },
  {
   "cell_type": "code",
   "execution_count": 17,
   "id": "bc72fb05",
   "metadata": {},
   "outputs": [
    {
     "data": {
      "text/plain": [
       "array([0.5       -0.75j      , 0.50785269-0.74999999j,\n",
       "       0.51569763-0.74999988j, ..., 0.47647292-0.74999938j,\n",
       "       0.48430237-0.74999988j, 0.49214731-0.74999999j])"
      ]
     },
     "execution_count": 17,
     "metadata": {},
     "output_type": "execute_result"
    }
   ],
   "source": [
    "y"
   ]
  },
  {
   "cell_type": "code",
   "execution_count": 9,
   "id": "3305e1bf",
   "metadata": {},
   "outputs": [],
   "source": [
    "def a_k(k):\n",
    "    if k==0:\n",
    "        return 0.5\n",
    "    else:\n",
    "        return (1-np.exp(-1j*k*np.pi))/(2j*k*np.pi)"
   ]
  },
  {
   "cell_type": "code",
   "execution_count": 17,
   "id": "7abc5bdd",
   "metadata": {},
   "outputs": [
    {
     "data": {
      "text/plain": [
       "[<matplotlib.lines.Line2D at 0x145d09dd160>]"
      ]
     },
     "execution_count": 17,
     "metadata": {},
     "output_type": "execute_result"
    },
    {
     "data": {
      "image/png": "[encoded data removed]",
      "text/plain": [
       "<Figure size 432x288 with 1 Axes>"
      ]
     },
     "metadata": {
      "needs_background": "light"
     },
     "output_type": "display_data"
    }
   ],
   "source": [
    "K=np.arange(-500,500)\n",
    "y=0\n",
    "t=np.arange(-2.5,2.5,0.01)\n",
    "\n",
    "for i,k in enumerate(K):\n",
    "    y+=a_k(k)*np.exp(1j*k*np.pi*(t))\n",
    "    \n",
    "plt.plot(t,np.real(y))"
   ]
  },
  {
   "cell_type": "code",
   "execution_count": 19,
   "id": "2cfc2e2e",
   "metadata": {},
   "outputs": [],
   "source": [
    "def a_k(k):\n",
    "    if k==0:\n",
    "        return 0.5\n",
    "    else:\n",
    "        return -(1-2*np.exp(-1j*k*np.pi)+np.exp(-2j*k*np.pi))/(k**2*np.pi**2)"
   ]
  },
  {
   "cell_type": "code",
   "execution_count": 26,
   "id": "1c75a71a",
   "metadata": {},
   "outputs": [
    {
     "data": {
      "text/plain": [
       "[<matplotlib.lines.Line2D at 0x145d1c6d280>]"
      ]
     },
     "execution_count": 26,
     "metadata": {},
     "output_type": "execute_result"
    },
    {
     "data": {
      "image/png": "[encoded data removed]",
      "text/plain": [
       "<Figure size 432x288 with 1 Axes>"
      ]
     },
     "metadata": {
      "needs_background": "light"
     },
     "output_type": "display_data"
    }
   ],
   "source": [
    "K=np.arange(-10,10)\n",
    "y=0\n",
    "t=np.arange(-2.5,2.5,0.01)\n",
    "\n",
    "for i,k in enumerate(K):\n",
    "    y+=a_k(k)*np.exp(1j*k*np.pi*(t))\n",
    "    \n",
    "plt.plot(t,np.real(y))"
   ]
  },
  {
   "cell_type": "code",
   "execution_count": null,
   "id": "429c407e",
   "metadata": {},
   "outputs": [],
   "source": []
  }
 ],
 "metadata": {
  "kernelspec": {
   "display_name": "Python 3 (ipykernel)",
   "language": "python",
   "name": "python3"
  },
  "language_info": {
   "codemirror_mode": {
    "name": "ipython",
    "version": 3
   },
   "file_extension": ".py",
   "mimetype": "text/x-python",
   "name": "python",
   "nbconvert_exporter": "python",
   "pygments_lexer": "ipython3",
   "version": "3.9.7"
  }
 },
 "nbformat": 4,
 "nbformat_minor": 5
}
