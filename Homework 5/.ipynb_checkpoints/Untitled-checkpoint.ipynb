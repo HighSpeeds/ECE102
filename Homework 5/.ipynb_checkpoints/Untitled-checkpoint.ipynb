{
 "cells": [
  {
   "cell_type": "code",
   "execution_count": 1,
   "id": "e2ba227f",
   "metadata": {},
   "outputs": [],
   "source": [
    "import numpy as np\n",
    "import matplotlib.pyplot as plt"
   ]
  },
  {
   "cell_type": "code",
   "execution_count": 26,
   "id": "8c30d77f",
   "metadata": {},
   "outputs": [],
   "source": [
    "i=1j\n",
    "pi=np.pi\n",
    "def sin(x):\n",
    "    return np.sin(x)\n",
    "\n",
    "def cos(x):\n",
    "    return np.cos(x)"
   ]
  },
  {
   "cell_type": "code",
   "execution_count": 39,
   "id": "35c244fd",
   "metadata": {},
   "outputs": [],
   "source": [
    "a_k1=lambda k: -(3*(3*i*sin((2*pi*k)/3)+3*cos((2*pi*k)/3)+(pi*k-3*i)*sin((pi*k)/3)+(-i*pi*k-3)*cos((pi*k)/3)))/(pi**2*k**2)\n",
    "a_k2=lambda k: (6*sin((pi*k)/3))/(pi*k)\n",
    "a_k3=lambda k: (3*(3*i*sin((2*pi*k)/3)-3*cos((2*pi*k)/3)+(-pi*k-3*i)*sin((pi*k)/3)+(3-i*pi*k)*cos((pi*k)/3)))/(pi**2*k**2)"
   ]
  },
  {
   "cell_type": "code",
   "execution_count": 40,
   "id": "0188cd87",
   "metadata": {},
   "outputs": [
    {
     "data": {
      "text/plain": [
       "(0.08489730964835188+0.4774648292756862j)"
      ]
     },
     "execution_count": 40,
     "metadata": {},
     "output_type": "execute_result"
    }
   ],
   "source": [
    "a_k1(1)"
   ]
  },
  {
   "cell_type": "code",
   "execution_count": 77,
   "id": "57017947",
   "metadata": {},
   "outputs": [],
   "source": [
    "a_k=lambda k: 18*(cos(pi*k/3)/(pi*k)-cos(2*pi*k/3)/(pi*k))/(pi*k)"
   ]
  },
  {
   "cell_type": "code",
   "execution_count": 78,
   "id": "f4fd819d",
   "metadata": {},
   "outputs": [
    {
     "data": {
      "text/plain": [
       "1.8237813055620797"
      ]
     },
     "execution_count": 78,
     "metadata": {},
     "output_type": "execute_result"
    }
   ],
   "source": [
    "a_k(1)"
   ]
  },
  {
   "cell_type": "code",
   "execution_count": 81,
   "id": "5f289026",
   "metadata": {},
   "outputs": [],
   "source": [
    "def f(t):\n",
    "    y=0\n",
    "    for k in range(-1000,0):\n",
    "        y+=(a_k(k))*np.exp(1j *k* np.pi/3*t)\n",
    "    for k in range(1,1000):\n",
    "        y+=(a_k(k))*np.exp(1j *k* np.pi/3*t)\n",
    "    return np.real(y)/6+0.5"
   ]
  },
  {
   "cell_type": "code",
   "execution_count": 82,
   "id": "40102c8c",
   "metadata": {},
   "outputs": [
    {
     "data": {
      "text/plain": [
       "[<matplotlib.lines.Line2D at 0x24153452850>]"
      ]
     },
     "execution_count": 82,
     "metadata": {},
     "output_type": "execute_result"
    },
    {
     "data": {
      "image/png": "[encoded data removed]",
      "text/plain": [
       "<Figure size 432x288 with 1 Axes>"
      ]
     },
     "metadata": {
      "needs_background": "light"
     },
     "output_type": "display_data"
    }
   ],
   "source": [
    "t=np.arange(-10,10)\n",
    "plt.plot(t,f(t))"
   ]
  },
  {
   "cell_type": "code",
   "execution_count": null,
   "id": "147302b0",
   "metadata": {},
   "outputs": [],
   "source": []
  }
 ],
 "metadata": {
  "kernelspec": {
   "display_name": "Python 3 (ipykernel)",
   "language": "python",
   "name": "python3"
  },
  "language_info": {
   "codemirror_mode": {
    "name": "ipython",
    "version": 3
   },
   "file_extension": ".py",
   "mimetype": "text/x-python",
   "name": "python",
   "nbconvert_exporter": "python",
   "pygments_lexer": "ipython3",
   "version": "3.9.7"
  }
 },
 "nbformat": 4,
 "nbformat_minor": 5
}
