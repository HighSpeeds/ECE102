{
 "cells": [
  {
   "cell_type": "code",
   "execution_count": 17,
   "id": "29f8c0ed",
   "metadata": {},
   "outputs": [],
   "source": [
    "import matplotlib.pyplot as plt\n",
    "import matplotlib.markers"
   ]
  },
  {
   "cell_type": "code",
   "execution_count": 33,
   "id": "97a2a15d",
   "metadata": {},
   "outputs": [
    {
     "data": {
      "image/png": "[encoded data removed]",
      "text/plain": [
       "<Figure size 432x288 with 1 Axes>"
      ]
     },
     "metadata": {
      "needs_background": "light"
     },
     "output_type": "display_data"
    }
   ],
   "source": [
    "plt.scatter([-2,-3],[0,0],marker=\"X\",s=200.0)\n",
    "plt.scatter([8],[0],marker=matplotlib.markers.MarkerStyle(\"o\",\"none\"),s=200,color=\"blue\")\n",
    "plt.axhline(0, color='black')\n",
    "plt.axvline(0, color='black')\n",
    "plt.xlim(-5,10)\n",
    "plt.axvspan(-2,100, color='red', alpha=0.5)\n",
    "plt.text(0.5,0.04,\"ROC\")\n",
    "plt.yticks([],[])\n",
    "plt.savefig(\"fig2\")"
   ]
  },
  {
   "cell_type": "code",
   "execution_count": 19,
   "id": "22eb9851",
   "metadata": {},
   "outputs": [
    {
     "data": {
      "text/plain": [
       "<matplotlib.markers.MarkerStyle at 0x1f7ab351b20>"
      ]
     },
     "execution_count": 19,
     "metadata": {},
     "output_type": "execute_result"
    }
   ],
   "source": [
    "matplotlib.markers.MarkerStyle(\"o\",\"none\")"
   ]
  },
  {
   "cell_type": "code",
   "execution_count": null,
   "id": "c6af76d9",
   "metadata": {},
   "outputs": [],
   "source": []
  }
 ],
 "metadata": {
  "kernelspec": {
   "display_name": "Python 3 (ipykernel)",
   "language": "python",
   "name": "python3"
  },
  "language_info": {
   "codemirror_mode": {
    "name": "ipython",
    "version": 3
   },
   "file_extension": ".py",
   "mimetype": "text/x-python",
   "name": "python",
   "nbconvert_exporter": "python",
   "pygments_lexer": "ipython3",
   "version": "3.9.7"
  }
 },
 "nbformat": 4,
 "nbformat_minor": 5
}
